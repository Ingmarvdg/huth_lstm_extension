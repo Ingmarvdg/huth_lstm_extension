{
 "cells": [
  {
   "cell_type": "markdown",
   "metadata": {},
   "source": [
    "# LSTM for word representations in human brain tutorial\n",
    "\n"
   ]
  },
  {
   "cell_type": "markdown",
   "metadata": {},
   "source": [
    "## Introduction ##\n",
    "Language encoding models can help us understand the underlying mechanisms of language processing in the human brain. Alexander Huth explains how he uses a 985-dimensional word embedding to model FMRI response in [this tutorial](https://github.com/HuthLab/speechmodeltutorial). This word embedding method however, uses a quite outdated method. He also has a [follow-up paper](https://papers.nips.cc/paper/7897-incorporating-context-into-language-encoding-models-for-fmri) where he uses an LSTM to train the word representations to respond to context. This notebook is an extension of his own tutorial, where we use a more advanced word embedding method, as well as showing an example implementation of the LSTM, since his own tutorial does not contain it. At the end of the tutorial you will be left with a set of models that can be used to convert a text into word embeddings using a very similar method to Huth's. \n",
    "\n",
    "All the libraries needed in this tutorial, WordEmbedding and StoriesDataset are two custom classes to help loading the word embeddings and the dataset. LSTMWordpred is the PyTorch architecture for the LSTM model. "
   ]
  },
  {
   "cell_type": "code",
   "execution_count": 1,
   "metadata": {},
   "outputs": [
    {
     "name": "stdout",
     "output_type": "stream",
     "text": [
      "<class 'torch.device'>\n"
     ]
    }
   ],
   "source": [
    "# configurations and imports\n",
    "from nlp_fmri_utils import WordEmbedding, StoriesDataset, LSTMWordpred, load_models\n",
    "from sklearn.manifold import TSNE\n",
    "\n",
    "import matplotlib.pyplot as plt\n",
    "import numpy as np\n",
    "\n",
    "import torch\n",
    "import torch.optim as optim\n",
    "import pickle as pkl\n",
    "import os\n",
    "import re\n",
    "\n",
    "# functions from Alexander Huths tutorial\n",
    "import functions\n",
    "\n",
    "modeldir = './models'\n",
    "seqdir = './seq_data'\n",
    "gridsdir = './grids'\n",
    "trdir = './trfiles'\n",
    "\n",
    "device = torch.device(\"cuda\" if torch.cuda.is_available() else \"cpu\")\n",
    "print(torch.device)"
   ]
  },
  {
   "cell_type": "markdown",
   "metadata": {},
   "source": [
    "The below cell will check if you have the proper datafiles, if not it will download them for you."
   ]
  },
  {
   "cell_type": "code",
   "execution_count": 2,
   "metadata": {},
   "outputs": [],
   "source": [
    "# run this to download the datafiles from the web\n",
    "import requests\n",
    "import zipfile\n",
    "\n",
    "if not os.path.exists(\"stories.csv\"): \n",
    "    r1 = requests.get('https://www.kaggle.com/shubchat/1002-short-stories-from-project-guttenberg/download', allow_redirects=True)\n",
    "    open('stories.csv', 'wb').write(r1.content)\n",
    "\n",
    "if not os.path.exists(\"glove_embeds.txt\"): \n",
    "    r2 = requests.get('http://nlp.stanford.edu/data/glove.6B.zip', allow_redirects=True)\n",
    "    open('glove.6B.zip', 'wb').write(r2.content)\n",
    "    \n",
    "    with zipfile.ZipFile('glove.6B.zip') as z:\n",
    "        with open('glove_embeds.txt', 'wb') as f:\n",
    "            f.write(z.read('glove.6B.300d.txt'))\n",
    "    "
   ]
  },
  {
   "cell_type": "markdown",
   "metadata": {},
   "source": [
    "## Part 1: the word embedding\n",
    "To represent each word in the text, a pre-trained word embedding is used. The word embedding we use is a 50 dimensional GloVe embedding. We use a pre-trained word embedding because doing the embedding in this tutorial will be too time consuming. The GloVe embedding algorithm takes a sparse word co-occurrence matrix and turns it into a dense word embedding matrix. For more information on how this embedding works, check the [original paper](https://nlp.stanford.edu/projects/glove/). \n",
    "\n",
    "Initialize a WordEmbedding object with the path to the pre-trained embeddings, we will use this later to look at word similarities and to convert text to vectors. The pre-trained embeddings contain 40 thousand words with 50 dimensions each, so this might take a minute.  "
   ]
  },
  {
   "cell_type": "code",
   "execution_count": 3,
   "metadata": {},
   "outputs": [
    {
     "name": "stdout",
     "output_type": "stream",
     "text": [
      "Made an embedding containing  400000 words.\n"
     ]
    }
   ],
   "source": [
    "glove_embeddings = WordEmbedding(f'glove_embeds.txt')"
   ]
  },
  {
   "cell_type": "markdown",
   "metadata": {},
   "source": [
    "We check if the embeddings have been parsed correctly by seeing if the shape is correct. The array should be of shape n_words x n_dimensions. We can also test if we can find the vector of a particular word"
   ]
  },
  {
   "cell_type": "code",
   "execution_count": 4,
   "metadata": {},
   "outputs": [
    {
     "name": "stdout",
     "output_type": "stream",
     "text": [
      "vector matrix shape: (400000, 50)\n",
      "the word vector of the word cheese is:  [[-0.053903 -0.30871  -1.3285   -0.43342   0.31779   1.5224   -0.6965\n",
      "  -0.037086 -0.83784   0.074107 -0.30532  -0.1783    1.2337    0.085473\n",
      "   0.17362  -0.19001   0.36907   0.49454  -0.024311 -1.0535    0.5237\n",
      "  -1.1489    0.95093   1.1538   -0.52286  -0.14931  -0.97614   1.3912\n",
      "   0.79875  -0.72134   1.5411   -0.15928  -0.30472   1.7265    0.13124\n",
      "  -0.054023 -0.74212   1.675     1.9502   -0.53274   1.1359    0.20027\n",
      "   0.02245  -0.39379   1.0609    1.585     0.17889   0.43556   0.68161\n",
      "   0.066202]]\n"
     ]
    }
   ],
   "source": [
    "print(\"vector matrix shape:\", glove_embeddings.vectors.shape)\n",
    "test_word = 'cheese'\n",
    "print(f\"the word vector of the word {test_word} is: \", glove_embeddings.get_word_vectors([test_word]))"
   ]
  },
  {
   "cell_type": "markdown",
   "metadata": {},
   "source": [
    "Great!\n",
    "\n",
    "Below we use [TSNE](http://www.jmlr.org/papers/volume9/vandermaaten08a/vandermaaten08a.pdf), a method to cluster and visualize high dimensional data to show words of two distinct categories:\n",
    "1. food related items\n",
    "2. family related items\n",
    "\n",
    "TSNE is able to make a clear distinction between the two categories. "
   ]
  },
  {
   "cell_type": "code",
   "execution_count": 5,
   "metadata": {},
   "outputs": [
    {
     "data": {
      "image/png": "[encoded data removed]",
      "text/plain": [
       "<Figure size 432x288 with 1 Axes>"
      ]
     },
     "metadata": {
      "needs_background": "light"
     },
     "output_type": "display_data"
    }
   ],
   "source": [
    "# plot words with tsne dimensionality reduction\n",
    "\n",
    "words = [\"mother\", \"mom\", \"dad\", \"father\", \"son\", \"family\", \"cheese\", \"pizza\", \"chicken\", \"tomato\", \"beef\", \"food\"]\n",
    "vects = glove_embeddings.get_word_vectors(words)\n",
    "\n",
    "viz_dims = TSNE(n_components=2, perplexity=5, random_state=0).fit_transform(vects)\n",
    "\n",
    "fig = plt.figure()\n",
    "ax = fig.add_subplot(111)\n",
    "i=0\n",
    "\n",
    "for a in words:\n",
    "    ax.scatter(viz_dims[i][0], viz_dims[i][1], s=800, c='black', marker=r\"$ {} $\".format(a), edgecolors='none' )\n",
    "    i+=1\n",
    "\n",
    "plt.show()"
   ]
  },
  {
   "cell_type": "markdown",
   "metadata": {},
   "source": [
    "From the graph above we can conclude that the words within each cluster are somewhat similar, but how similar (or how different) are they exactly? We can use cosine similarity to quantify the similarity between two words, where 0 is most dissimilar and 1 is most similar. "
   ]
  },
  {
   "cell_type": "code",
   "execution_count": 6,
   "metadata": {},
   "outputs": [
    {
     "name": "stdout",
     "output_type": "stream",
     "text": [
      "Similarity between dad and mom is: 0.9040323212958359\n",
      "Similarity between dad and pizza is: 0.3952750348424894\n",
      "Similarity between pizza and cheese is: 0.7087556782372948\n",
      "Similarity between fruit and rock is: 0.328926165386697\n",
      "Similarity between man and woman is: 0.8860337718495819\n",
      "Similarity between food and family is: 0.5078556142593991\n"
     ]
    }
   ],
   "source": [
    "for pair in [('dad', 'mom'), \n",
    "             ('dad', 'pizza'), \n",
    "             ('pizza', 'cheese'), \n",
    "             ('fruit', 'rock'), \n",
    "             ('man', 'woman'),\n",
    "             ('food','family')\n",
    "             ]:\n",
    "    \n",
    "    print('Similarity between {} and {} is: {}'.\n",
    "          format(pair[0], pair[1], glove_embeddings.similarity(pair[0], pair[1])))"
   ]
  },
  {
   "cell_type": "markdown",
   "metadata": {},
   "source": [
    "We can also go a step further and find the 5 most similar words from a given word, lets try some. Use the most_similar function."
   ]
  },
  {
   "cell_type": "code",
   "execution_count": 7,
   "metadata": {},
   "outputs": [
    {
     "name": "stdout",
     "output_type": "stream",
     "text": [
      "The words most similar to soldier are: ['wounded', 'killed', 'soldiers', 'army', 'troops']\n",
      "The words most similar to king are: ['emperor', 'throne', 'son', 'lord', 'prince']\n",
      "The words most similar to food are: ['products', 'vegetables', 'meat', 'medicines', 'goods']\n",
      "The words most similar to rock are: ['band', 'album', 'music', 'songs', 'albums']\n",
      "The words most similar to family are: ['816-822-8448', 'mother', 'daughter', 'wife', 'son']\n"
     ]
    }
   ],
   "source": [
    "for word in ['soldier',\n",
    "             'king',\n",
    "             'food',\n",
    "             'rock',\n",
    "             'family'\n",
    "            ]:\n",
    "    \n",
    "    print('The words most similar to {} are: {}'.format(word, glove_embeddings.most_similar(word, 5)))"
   ]
  },
  {
   "cell_type": "markdown",
   "metadata": {},
   "source": [
    "Another interesting emergence from these word embeddings is word analogies, for example a man is to a king what a woman is to a ?. The function takes the vector of a word, like \"man\", subtracts another vector, like \"king\", and then adds a third vector, like \"queen\". Then finds the nearest word to the resulting vector. We can try some word analogy triplets with the analogy function."
   ]
  },
  {
   "cell_type": "code",
   "execution_count": 8,
   "metadata": {},
   "outputs": [
    {
     "name": "stdout",
     "output_type": "stream",
     "text": [
      "king is to man as queen is to ['woman', 'girl', 'her', 'man', 'she']\n",
      "university is to professor as school is to ['school', '816-822-8448', 'professor', 'college', 'teacher']\n",
      "mother is to daughter as father is to ['son', 'daughter', 'father', 'married', 'wife']\n",
      "god is to church as devil is to ['non-institutionalized', 'church', 'st.', 'cathedral', '732-390-4697']\n"
     ]
    }
   ],
   "source": [
    "triplets = [('king', 'man', 'queen'),\n",
    "            ('university', 'professor', 'school'),\n",
    "            ('mother', 'daughter', 'father'),\n",
    "            ('god', 'church', 'devil'),\n",
    "           ]\n",
    "\n",
    "for a, b, c in triplets:\n",
    "    print('{} is to {} as {} is to {}'.format(a, b, c, glove_embeddings.analogy(a, b, c, 5)))"
   ]
  },
  {
   "cell_type": "markdown",
   "metadata": {},
   "source": [
    "The analogy task is not performing perfectly, but the results are in the ballpark of what we could expect. Its clear that these word embeddings contain a lot of information, while only having 50 dimensions per word."
   ]
  },
  {
   "cell_type": "markdown",
   "metadata": {},
   "source": [
    "## Part 2: data preparation\n",
    "\n",
    "The texts used by Alexander Huth are short stories, so it only makes sense for us to use other short stories as training data for the LSTM. The texts we will use are from [PROJECT GUTENBERG](https://www.gutenberg.org/), it's a dataset with 1000 short stories. \n",
    "\n",
    "The StoriesDataset class will load the processed datafile if it exists, if not it must be generated first by using generate_sequences. If you dont have processed .csv files yet, run the cell below to create a processed dataset containing n stories. For the sake of this tutorial, 10 stories should be enough. \n",
    "\n",
    "The preprocessing the generate_sequences function does is the following:\n",
    "1. remove all non-word tokens and large whitespaces.\n",
    "2. lowercase all words.\n",
    "3. generate sequences of length n, with targets. \n",
    "\n",
    "The sequences will use the sliding window principle, with the last word being the target. \n",
    "\n",
    "Alexander Huths second paper uses 10 different context lengths to see if different parts of the brain react to which context length. For simplicity we will only use 3 context lengths, 5, 10 and 15. For this we must generate 3 separate datasets. "
   ]
  },
  {
   "cell_type": "code",
   "execution_count": 9,
   "metadata": {},
   "outputs": [],
   "source": [
    "# run this to generate sequences first if you havent already\n",
    "context_lens = [5, 10, 15]\n",
    "n_stories = 3\n",
    "\n",
    "if not os.path.exists(seqdir):\n",
    "    os.mkdir(seqdir)\n",
    "\n",
    "for context_len in context_lens:\n",
    "    filename = 'seq_{}.csv'.format(context_len)\n",
    "    StoriesDataset(os.path.join(seqdir, filename) , glove_embeddings).generate_sequences('stories.csv', 'content', n_stories, context_len)"
   ]
  },
  {
   "cell_type": "markdown",
   "metadata": {},
   "source": [
    "## Part 3: training the LSTM\n",
    "\n",
    "Now that we have prepared the sequences and the targets, we can start training an LSTM model! The input of the model will be the word embeddings of a single sequence, the target output will be the index of the target word. \n",
    "\n",
    "The model will have the following layers:\n",
    "2. The first lstm layer, with an input shape of maximum sequence length * the word embedding size.\n",
    "3. The second lstm layer.\n",
    "4. The third lstm layer. \n",
    "5. A dense layer that with one output node for each unique word in the text, using a sigmoid activation.  \n",
    "\n",
    "The architecture of the model has already been made in PyTorch, we only have to call it and give it the right arguments, 3 LSTM layers of size 50.\n",
    "\n",
    "We will use cosine similarity (called CosineEmbeddingLoss in PyTorch) as loss function and adam as optimizer. We also have to retrieve the datasets we made earlier. "
   ]
  },
  {
   "cell_type": "code",
   "execution_count": 10,
   "metadata": {},
   "outputs": [],
   "source": [
    "loss_fun = torch.nn.MSELoss()\n",
    "\n",
    "fit_params = {'n_epochs': 3,\n",
    "              'val_split': 0.1,\n",
    "              'batch_size': 10,\n",
    "              'loss_function': loss_fun}\n",
    "\n",
    "model_params = {'hidden_dim': 50,\n",
    "                'n_layers': 3,\n",
    "                'embedding_dim': glove_embeddings.dim}\n",
    "\n",
    "lr = 0.001"
   ]
  },
  {
   "cell_type": "markdown",
   "metadata": {},
   "source": [
    "Dont forget that we have to make 3 models, one for each context length. Running the following cell will fit a model using the hyperparameters above for each context length we have available and save the model as a pickle file. \n",
    "\n",
    "Running this cell can take a long time if you dont have a strong GPU available for PyTorch to use. Luckily, I trained some models and saved them, if you dont want to wait for the training loop, use the pretrained models instead."
   ]
  },
  {
   "cell_type": "code",
   "execution_count": 11,
   "metadata": {},
   "outputs": [
    {
     "name": "stdout",
     "output_type": "stream",
     "text": [
      "Making model for seq_15.csv...\n",
      "seq_15.csv\n",
      "Fitting model with 3 epochs over 57495 sequences.\n",
      "Starting epoch 1\n"
     ]
    },
    {
     "ename": "TypeError",
     "evalue": "forward() takes 3 positional arguments but 4 were given",
     "output_type": "error",
     "traceback": [
      "\u001b[0;31m---------------------------------------------------------------------------\u001b[0m",
      "\u001b[0;31mTypeError\u001b[0m                                 Traceback (most recent call last)",
      "\u001b[0;32m<ipython-input-11-64f94ed7c528>\u001b[0m in \u001b[0;36m<module>\u001b[0;34m\u001b[0m\n\u001b[1;32m     13\u001b[0m         \u001b[0mcl\u001b[0m \u001b[0;34m=\u001b[0m \u001b[0mre\u001b[0m\u001b[0;34m.\u001b[0m\u001b[0msearch\u001b[0m\u001b[0;34m(\u001b[0m\u001b[0;34m'seq_(.+?).csv'\u001b[0m\u001b[0;34m,\u001b[0m \u001b[0mfilename\u001b[0m\u001b[0;34m)\u001b[0m\u001b[0;34m.\u001b[0m\u001b[0mgroup\u001b[0m\u001b[0;34m(\u001b[0m\u001b[0;36m1\u001b[0m\u001b[0;34m)\u001b[0m\u001b[0;34m\u001b[0m\u001b[0;34m\u001b[0m\u001b[0m\n\u001b[1;32m     14\u001b[0m \u001b[0;34m\u001b[0m\u001b[0m\n\u001b[0;32m---> 15\u001b[0;31m         \u001b[0mtrain_hist\u001b[0m\u001b[0;34m,\u001b[0m \u001b[0mval_hist\u001b[0m \u001b[0;34m=\u001b[0m \u001b[0mmodel\u001b[0m\u001b[0;34m.\u001b[0m\u001b[0mfit\u001b[0m\u001b[0;34m(\u001b[0m\u001b[0mds\u001b[0m\u001b[0;34m,\u001b[0m \u001b[0mopt\u001b[0m\u001b[0;34m=\u001b[0m\u001b[0madam\u001b[0m\u001b[0;34m,\u001b[0m \u001b[0;34m**\u001b[0m\u001b[0mfit_params\u001b[0m\u001b[0;34m)\u001b[0m\u001b[0;34m\u001b[0m\u001b[0;34m\u001b[0m\u001b[0m\n\u001b[0m\u001b[1;32m     16\u001b[0m         \u001b[0mfilename\u001b[0m \u001b[0;34m=\u001b[0m \u001b[0;34mf'lstm_model{cl}.pth'\u001b[0m\u001b[0;34m\u001b[0m\u001b[0;34m\u001b[0m\u001b[0m\n\u001b[1;32m     17\u001b[0m \u001b[0;34m\u001b[0m\u001b[0m\n",
      "\u001b[0;32m~/Documents/Education/Exchange/AFMRIA/nlp_fmri_utils.py\u001b[0m in \u001b[0;36mfit\u001b[0;34m(self, dataset, n_epochs, val_split, batch_size, loss_function, opt, device)\u001b[0m\n\u001b[1;32m    206\u001b[0m                 \u001b[0;31m# print(out.shape)\u001b[0m\u001b[0;34m\u001b[0m\u001b[0;34m\u001b[0m\u001b[0;34m\u001b[0m\u001b[0m\n\u001b[1;32m    207\u001b[0m \u001b[0;34m\u001b[0m\u001b[0m\n\u001b[0;32m--> 208\u001b[0;31m                 \u001b[0mloss\u001b[0m \u001b[0;34m=\u001b[0m \u001b[0mloss_function\u001b[0m\u001b[0;34m(\u001b[0m\u001b[0mout\u001b[0m\u001b[0;34m,\u001b[0m \u001b[0mlocal_tar\u001b[0m\u001b[0;34m,\u001b[0m \u001b[0mtorch\u001b[0m\u001b[0;34m.\u001b[0m\u001b[0mones\u001b[0m\u001b[0;34m(\u001b[0m\u001b[0mself\u001b[0m\u001b[0;34m.\u001b[0m\u001b[0membedding_dim\u001b[0m\u001b[0;34m,\u001b[0m \u001b[0;36m1\u001b[0m\u001b[0;34m)\u001b[0m\u001b[0;34m)\u001b[0m\u001b[0;34m\u001b[0m\u001b[0;34m\u001b[0m\u001b[0m\n\u001b[0m\u001b[1;32m    209\u001b[0m                 \u001b[0mloss\u001b[0m\u001b[0;34m.\u001b[0m\u001b[0mbackward\u001b[0m\u001b[0;34m(\u001b[0m\u001b[0;34m)\u001b[0m\u001b[0;34m\u001b[0m\u001b[0;34m\u001b[0m\u001b[0m\n\u001b[1;32m    210\u001b[0m                 \u001b[0mopt\u001b[0m\u001b[0;34m.\u001b[0m\u001b[0mstep\u001b[0m\u001b[0;34m(\u001b[0m\u001b[0;34m)\u001b[0m\u001b[0;34m\u001b[0m\u001b[0;34m\u001b[0m\u001b[0m\n",
      "\u001b[0;32m~/anaconda3/envs/machinelearning/lib/python3.7/site-packages/torch/nn/modules/module.py\u001b[0m in \u001b[0;36m__call__\u001b[0;34m(self, *input, **kwargs)\u001b[0m\n\u001b[1;32m    530\u001b[0m             \u001b[0mresult\u001b[0m \u001b[0;34m=\u001b[0m \u001b[0mself\u001b[0m\u001b[0;34m.\u001b[0m\u001b[0m_slow_forward\u001b[0m\u001b[0;34m(\u001b[0m\u001b[0;34m*\u001b[0m\u001b[0minput\u001b[0m\u001b[0;34m,\u001b[0m \u001b[0;34m**\u001b[0m\u001b[0mkwargs\u001b[0m\u001b[0;34m)\u001b[0m\u001b[0;34m\u001b[0m\u001b[0;34m\u001b[0m\u001b[0m\n\u001b[1;32m    531\u001b[0m         \u001b[0;32melse\u001b[0m\u001b[0;34m:\u001b[0m\u001b[0;34m\u001b[0m\u001b[0;34m\u001b[0m\u001b[0m\n\u001b[0;32m--> 532\u001b[0;31m             \u001b[0mresult\u001b[0m \u001b[0;34m=\u001b[0m \u001b[0mself\u001b[0m\u001b[0;34m.\u001b[0m\u001b[0mforward\u001b[0m\u001b[0;34m(\u001b[0m\u001b[0;34m*\u001b[0m\u001b[0minput\u001b[0m\u001b[0;34m,\u001b[0m \u001b[0;34m**\u001b[0m\u001b[0mkwargs\u001b[0m\u001b[0;34m)\u001b[0m\u001b[0;34m\u001b[0m\u001b[0;34m\u001b[0m\u001b[0m\n\u001b[0m\u001b[1;32m    533\u001b[0m         \u001b[0;32mfor\u001b[0m \u001b[0mhook\u001b[0m \u001b[0;32min\u001b[0m \u001b[0mself\u001b[0m\u001b[0;34m.\u001b[0m\u001b[0m_forward_hooks\u001b[0m\u001b[0;34m.\u001b[0m\u001b[0mvalues\u001b[0m\u001b[0;34m(\u001b[0m\u001b[0;34m)\u001b[0m\u001b[0;34m:\u001b[0m\u001b[0;34m\u001b[0m\u001b[0;34m\u001b[0m\u001b[0m\n\u001b[1;32m    534\u001b[0m             \u001b[0mhook_result\u001b[0m \u001b[0;34m=\u001b[0m \u001b[0mhook\u001b[0m\u001b[0;34m(\u001b[0m\u001b[0mself\u001b[0m\u001b[0;34m,\u001b[0m \u001b[0minput\u001b[0m\u001b[0;34m,\u001b[0m \u001b[0mresult\u001b[0m\u001b[0;34m)\u001b[0m\u001b[0;34m\u001b[0m\u001b[0;34m\u001b[0m\u001b[0m\n",
      "\u001b[0;31mTypeError\u001b[0m: forward() takes 3 positional arguments but 4 were given"
     ]
    }
   ],
   "source": [
    "if not os.path.exists(modeldir):\n",
    "    os.mkdir(modeldir)\n",
    "\n",
    "for filename in os.listdir(seqdir):\n",
    "    if filename.endswith(\".csv\"):\n",
    "        print(f'Making model for {filename}...')\n",
    "        model = LSTMWordpred(**model_params)\n",
    "        adam = optim.Adam(model.parameters(), lr=lr)\n",
    "\n",
    "        print(filename)\n",
    "        ds = StoriesDataset(os.path.join(seqdir, filename), glove_embeddings)\n",
    "        \n",
    "        cl = re.search('seq_(.+?).csv', filename).group(1)\n",
    "        \n",
    "        train_hist, val_hist = model.fit(ds, opt=adam, **fit_params)\n",
    "        filename = f'lstm_model{cl}.pth'\n",
    "        \n",
    "        torch.save(model.state_dict(), os.path.join(modeldir, filename))\n",
    "        \n",
    "        # add your code for loss history visualization here.\n",
    "        \n",
    "        continue"
   ]
  },
  {
   "cell_type": "markdown",
   "metadata": {},
   "source": [
    "The following cell will load the pretrained models in a dictionary."
   ]
  },
  {
   "cell_type": "code",
   "execution_count": null,
   "metadata": {},
   "outputs": [],
   "source": [
    "model_arch = LSTMWordpred(**model_params)\n",
    "\n",
    "models = load_models(model_arch, modeldir)"
   ]
  },
  {
   "cell_type": "markdown",
   "metadata": {},
   "source": [
    "To make the new representations we need a replacement for the make_semantic_model function used by Huth, this function is the one below. This repo does not contain the Datasequence class that the original paper uses, so it will give an error when you run it."
   ]
  },
  {
   "cell_type": "code",
   "execution_count": null,
   "metadata": {},
   "outputs": [],
   "source": [
    "# new function to make the semantic model\n",
    "from functions import DataSequence\n",
    "def make_semantic_lstm_model(ds, embeddings, lstm_model, layer, seq_len):\n",
    "    x = []\n",
    "    words = ds.data\n",
    "    for i in range(0, len(words), 1):\n",
    "        if i <= seq_len:\n",
    "            seq = list(seq_len*' ')\n",
    "        else:\n",
    "            seq = words[i-seq_len:i]\n",
    "        \n",
    "        seq_emb = embeddings.get_word_vectors(seq)\n",
    "        x.append(seq_emb)\n",
    "    seqs = torch.from_numpy(np.stack(x)).float()\n",
    "    representations = lstm_model.get_hidden_states(seqs)[layer-1].detach().numpy()\n",
    "    \n",
    "    return DataSequence(representations, ds.split_inds, ds.data_times, ds.tr_times)"
   ]
  },
  {
   "cell_type": "markdown",
   "metadata": {},
   "source": [
    "And thats it. To use the LSTM for word representations instead of the Eng1000 representation, you will have to make the following adjustments to the original tutorial:\n",
    "\n",
    "1. load the glove word embeddings (cell 3).\n",
    "2. load the pretrained models (cell 10 and 11).\n",
    "3. copy the new semantic model function (cell 13).\n",
    "4. use the lstm semantic model function instead of the original function.\n",
    "\n",
    "The files and directories you will need are:\n",
    "1. A models folder with the pretrained models.\n",
    "2. The word embeddings .txt file.\n",
    "3. The nlp_utils.py file\n",
    "\n",
    "I might improve on this explanation by uploading the modified tutorial, or a more detailed walkthrough. But for now, this will have to do."
   ]
  },
  {
   "cell_type": "markdown",
   "metadata": {},
   "source": [
    "# THE NEXT PART IS COPIED FROM HUTHS TUTORIAL"
   ]
  },
  {
   "cell_type": "code",
   "execution_count": null,
   "metadata": {},
   "outputs": [],
   "source": [
    "# These are lists of the stories\n",
    "# Rstories are the names of the training (or Regression) stories, which we will use to fit our models\n",
    "Rstories = ['alternateithicatom', 'avatar', 'howtodraw', 'legacy',\n",
    "            'life', 'myfirstdaywiththeyankees', 'naked',\n",
    "            'odetostepfather', 'souls', 'undertheinfluence']\n",
    "\n",
    "# Pstories are the test (or Prediction) stories (well, story), which we will use to test our models\n",
    "Pstories = ['wheretheressmoke']\n",
    "\n",
    "allstories = Rstories + Pstories\n",
    "\n",
    "# Load TextGrids\n",
    "from functions import load_grids_for_stories\n",
    "grids = load_grids_for_stories(allstories, gridsdir)\n",
    "\n",
    "# Load TRfiles\n",
    "from functions import load_generic_trfiles\n",
    "trfiles = load_generic_trfiles(allstories, trdir)\n",
    "\n",
    "# Make word and phoneme datasequences\n",
    "from functions import make_word_ds, make_phoneme_ds\n",
    "wordseqs = make_word_ds(grids, trfiles) # dictionary of {storyname : word DataSequence}\n",
    "phonseqs = make_phoneme_ds(grids, trfiles) # dictionary of {storyname : phoneme DataSequence}\n"
   ]
  },
  {
   "cell_type": "code",
   "execution_count": null,
   "metadata": {},
   "outputs": [],
   "source": [
    "# Project stimuli\n",
    "from functions import make_semantic_model\n",
    "semanticseqs = dict() # dictionary to hold projected stimuli {story name : projected DataSequence}\n",
    "for story in allstories:\n",
    "    semanticseqs[story] = make_semantic_lstm_model(wordseqs[story], glove_embeddings, models['lstm_model10'], 2, 5)"
   ]
  },
  {
   "cell_type": "code",
   "execution_count": null,
   "metadata": {},
   "outputs": [],
   "source": [
    "test = semanticseqs['naked'].data.shape"
   ]
  },
  {
   "cell_type": "code",
   "execution_count": null,
   "metadata": {},
   "outputs": [],
   "source": [
    "# Downsample stimuli\n",
    "interptype = \"lanczos\" # filter type\n",
    "window = 3 # number of lobes in Lanczos filter\n",
    "\n",
    "downsampled_semanticseqs = dict() # dictionary to hold downsampled stimuli\n",
    "for story in allstories:\n",
    "    downsampled_semanticseqs[story] = semanticseqs[story].chunksums(interptype, window=window)"
   ]
  },
  {
   "cell_type": "code",
   "execution_count": null,
   "metadata": {},
   "outputs": [],
   "source": [
    "# Plot the result\n",
    "s_words = wordseqs[\"naked\"]\n",
    "s_sem = semanticseqs[\"naked\"]\n",
    "s_semdown = downsampled_semanticseqs[\"naked\"]\n",
    "\n",
    "plt.plot(s_sem.data[10,:])\n",
    "plt.plot(s_sem.data[21,:])\n",
    "plt.plot(s_sem.data[32,:])\n",
    "plt.plot(s_sem.data[43,:])\n",
    "plt.plot(s_sem.data[74,:])\n",
    "\n",
    "print(s_sem.data[:,10].std())\n",
    "print(s_sem.data[:,10].mean())\n",
    "print(s_semdown.data.shape)"
   ]
  },
  {
   "cell_type": "code",
   "execution_count": null,
   "metadata": {},
   "outputs": [],
   "source": [
    "f = plt.figure(figsize=(15,5), facecolor='w')\n",
    "f.clf()\n",
    "schan = 6\n",
    "ax = f.add_subplot(1,1,1)\n",
    "wordstems = ax.stem(s_sem.data_times,\n",
    "                    s_sem.data[:,schan] / np.abs(s_sem.data[:,schan]).max(),\n",
    "                    linefmt=\"k-\", markerfmt=\"k.\", basefmt=\"k-\", use_line_collection=True)\n",
    "interps = ax.plot(s_sem.tr_times,\n",
    "                  s_semdown[:,schan] / np.abs(s_semdown[:,schan]).max(), 'r.-')\n",
    "ax.set_xlim(-6, 60)\n",
    "ax.set_ylim(-1.1, 1.1)\n",
    "ax.set_xlabel(\"Time (seconds since story start)\")\n",
    "ax.set_ylabel(\"Semantic feature value\")\n",
    "ax.legend((wordstems, interps[0]), (\"Individual words\", \"Downsampled feature\"))"
   ]
  },
  {
   "cell_type": "code",
   "execution_count": null,
   "metadata": {},
   "outputs": [],
   "source": []
  }
 ],
 "metadata": {
  "kernelspec": {
   "display_name": "Python 3",
   "language": "python",
   "name": "python3"
  },
  "language_info": {
   "codemirror_mode": {
    "name": "ipython",
    "version": 3
   },
   "file_extension": ".py",
   "mimetype": "text/x-python",
   "name": "python",
   "nbconvert_exporter": "python",
   "pygments_lexer": "ipython3",
   "version": "3.7.6"
  }
 },
 "nbformat": 4,
 "nbformat_minor": 2
}
