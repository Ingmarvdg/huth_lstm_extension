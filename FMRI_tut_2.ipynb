{
 "cells": [
  {
   "cell_type": "markdown",
   "metadata": {},
   "source": [
    "# LSTM for word representations in human brain tutorial\n",
    "\n"
   ]
  },
  {
   "cell_type": "markdown",
   "metadata": {},
   "source": [
    "## Introduction ##\n",
    "Language encoding models can help us understand the underlying mechanisms of language processing in the human brain. Alexander Huth explains how he uses a 985-dimensional word embedding to model FMRI response in [this tutorial](https://github.com/HuthLab/speechmodeltutorial). This word embedding method however, uses a quite outdated method. He also has a [follow-up paper](https://papers.nips.cc/paper/7897-incorporating-context-into-language-encoding-models-for-fmri) where he uses an LSTM to train the word representations to respond to context. This notebook is an extension of his own tutorial, where we use a more advanced word embedding method, as well as showing an example implementation of the LSTM, since his own tutorial does not contain it. At the end of the tutorial you will be left with a set of models that can be used to convert a text into word embeddings using a very similar method to Huth's. \n",
    "\n",
    "All the libraries needed in this tutorial, WordEmbedding and StoriesDataset are two custom classes to help loading the word embeddings and the dataset. LSTMWordpred is the PyTorch architecture for the LSTM model. "
   ]
  },
  {
   "cell_type": "code",
   "execution_count": 23,
   "metadata": {},
   "outputs": [],
   "source": [
    "# configurations and imports\n",
    "from nlp_fmri_utils import WordEmbedding, StoriesDataset, LSTMWordpred\n",
    "from sklearn.manifold import TSNE\n",
    "\n",
    "import matplotlib.pyplot as plt\n",
    "import numpy as np\n",
    "\n",
    "import torch\n",
    "import torch.optim as optim\n",
    "import pickle as pkl\n",
    "import os\n",
    "\n",
    "modeldir = './models'\n",
    "seqdir = './seq_data'\n",
    "\n",
    "device = torch.device(\"cuda\" if torch.cuda.is_available() else \"cpu\")"
   ]
  },
  {
   "cell_type": "markdown",
   "metadata": {},
   "source": [
    "The below cell will check if you have the proper datafiles, if not it will download them for you."
   ]
  },
  {
   "cell_type": "code",
   "execution_count": 2,
   "metadata": {},
   "outputs": [],
   "source": [
    "# run this to download the datafiles from the web\n",
    "import requests\n",
    "import zipfile\n",
    "\n",
    "if not os.path.exists(\"stories.csv\"): \n",
    "    r1 = requests.get('https://www.kaggle.com/shubchat/1002-short-stories-from-project-guttenberg/download', allow_redirects=True)\n",
    "    open('stories.csv', 'wb').write(r1.content)\n",
    "\n",
    "if not os.path.exists(\"glove_embeds.txt\"): \n",
    "    r2 = requests.get('http://nlp.stanford.edu/data/glove.6B.zip', allow_redirects=True)\n",
    "    open('glove.6B.zip', 'wb').write(r2.content)\n",
    "    \n",
    "    with zipfile.ZipFile('glove.6B.zip') as z:\n",
    "        with open('glove_embeds.txt', 'wb') as f:\n",
    "            f.write(z.read('glove.6B.50d.txt'))\n",
    "    "
   ]
  },
  {
   "cell_type": "markdown",
   "metadata": {},
   "source": [
    "## Part 1: the word embedding\n",
    "To represent each word in the text, a pre-trained word embedding is used. The word embedding we use is a 50 dimensional GloVe embedding. We use a pre-trained word embedding because doing the embedding in this tutorial will be too time consuming. The GloVe embedding algorithm takes a sparse word co-occurrence matrix and turns it into a dense word embedding matrix. For more information on how this embedding works, check the [original paper](https://nlp.stanford.edu/projects/glove/). \n",
    "\n",
    "Initialize a WordEmbedding object with the path to the pre-trained embeddings, we will use this later to look at word similarities and to convert text to vectors. The pre-trained embeddings contain 40 thousand words with 50 dimensions each, so this might take a minute.  "
   ]
  },
  {
   "cell_type": "code",
   "execution_count": 3,
   "metadata": {},
   "outputs": [
    {
     "name": "stdout",
     "output_type": "stream",
     "text": [
      "Made an embedding containing  400000 words.\n"
     ]
    }
   ],
   "source": [
    "glove_embeddings = WordEmbedding(f'glove_embeds.txt')"
   ]
  },
  {
   "cell_type": "markdown",
   "metadata": {},
   "source": [
    "We check if the embeddings have been parsed correctly by seeing if the shape is correct. The array should be of shape n_words x n_dimensions. We can also test if we can find the vector of a particular word"
   ]
  },
  {
   "cell_type": "code",
   "execution_count": 5,
   "metadata": {},
   "outputs": [
    {
     "name": "stdout",
     "output_type": "stream",
     "text": [
      "vector matrix shape: (400000, 50)\n",
      "the word vector of the word cheese is:  [[-0.053903 -0.30871  -1.3285   -0.43342   0.31779   1.5224   -0.6965\n",
      "  -0.037086 -0.83784   0.074107 -0.30532  -0.1783    1.2337    0.085473\n",
      "   0.17362  -0.19001   0.36907   0.49454  -0.024311 -1.0535    0.5237\n",
      "  -1.1489    0.95093   1.1538   -0.52286  -0.14931  -0.97614   1.3912\n",
      "   0.79875  -0.72134   1.5411   -0.15928  -0.30472   1.7265    0.13124\n",
      "  -0.054023 -0.74212   1.675     1.9502   -0.53274   1.1359    0.20027\n",
      "   0.02245  -0.39379   1.0609    1.585     0.17889   0.43556   0.68161\n",
      "   0.066202]]\n"
     ]
    }
   ],
   "source": [
    "print(\"vector matrix shape:\", glove_embeddings.vectors.shape)\n",
    "test_word = 'cheese'\n",
    "print(f\"the word vector of the word {test_word} is: \", glove_embeddings.get_word_vectors([test_word]))"
   ]
  },
  {
   "cell_type": "markdown",
   "metadata": {},
   "source": [
    "Great!\n",
    "\n",
    "Below we use [TSNE](http://www.jmlr.org/papers/volume9/vandermaaten08a/vandermaaten08a.pdf), a method to cluster and visualize high dimensional data to show words of two distinct categories:\n",
    "1. food related items\n",
    "2. family related items\n",
    "\n",
    "TSNE is able to make a clear distinction between the two categories. "
   ]
  },
  {
   "cell_type": "code",
   "execution_count": 6,
   "metadata": {},
   "outputs": [
    {
     "data": {
      "image/png": "[encoded data removed]",
      "text/plain": [
       "<Figure size 432x288 with 1 Axes>"
      ]
     },
     "metadata": {
      "needs_background": "light"
     },
     "output_type": "display_data"
    }
   ],
   "source": [
    "# plot words with tsne dimensionality reduction\n",
    "\n",
    "words = [\"mother\", \"mom\", \"dad\", \"father\", \"son\", \"family\", \"cheese\", \"pizza\", \"chicken\", \"tomato\", \"beef\", \"food\"]\n",
    "vects = glove_embeddings.get_word_vectors(words)\n",
    "\n",
    "viz_dims = TSNE(n_components=2, perplexity=5, random_state=0).fit_transform(vects)\n",
    "\n",
    "fig = plt.figure()\n",
    "ax = fig.add_subplot(111)\n",
    "i=0\n",
    "\n",
    "for a in words:\n",
    "    ax.scatter(viz_dims[i][0], viz_dims[i][1], s=800, c='black', marker=r\"$ {} $\".format(a), edgecolors='none' )\n",
    "    i+=1\n",
    "\n",
    "plt.show()"
   ]
  },
  {
   "cell_type": "markdown",
   "metadata": {},
   "source": [
    "From the graph above we can conclude that the words within each cluster are somewhat similar, but how similar (or how different) are they exactly? We can use cosine similarity to quantify the similarity between two words, where 0 is most dissimilar and 1 is most similar. "
   ]
  },
  {
   "cell_type": "code",
   "execution_count": 11,
   "metadata": {},
   "outputs": [
    {
     "name": "stdout",
     "output_type": "stream",
     "text": [
      "Similarity between dad and mom is: 0.9040323212958359\n",
      "Similarity between dad and pizza is: 0.3952750348424894\n",
      "Similarity between pizza and cheese is: 0.7087556782372948\n",
      "Similarity between fruit and rock is: 0.328926165386697\n",
      "Similarity between man and woman is: 0.8860337718495819\n",
      "Similarity between food and family is: 0.5078556142593991\n"
     ]
    }
   ],
   "source": [
    "for pair in [('dad', 'mom'), \n",
    "             ('dad', 'pizza'), \n",
    "             ('pizza', 'cheese'), \n",
    "             ('fruit', 'rock'), \n",
    "             ('man', 'woman'),\n",
    "             ('food','family')\n",
    "             ]:\n",
    "    \n",
    "    print('Similarity between {} and {} is: {}'.\n",
    "          format(pair[0], pair[1], glove_embeddings.similarity(pair[0], pair[1])))"
   ]
  },
  {
   "cell_type": "markdown",
   "metadata": {},
   "source": [
    "We can also go a step further and find the 5 most similar words from a given word, lets try some. Use the most_similar function."
   ]
  },
  {
   "cell_type": "code",
   "execution_count": 12,
   "metadata": {},
   "outputs": [
    {
     "name": "stdout",
     "output_type": "stream",
     "text": [
      "The words most similar to soldier are: ['wounded', 'killed', 'soldiers', 'army', 'troops']\n",
      "The words most similar to king are: ['emperor', 'throne', 'son', 'lord', 'prince']\n",
      "The words most similar to food are: ['products', 'vegetables', 'meat', 'medicines', 'goods']\n",
      "The words most similar to rock are: ['band', 'album', 'music', 'songs', 'albums']\n",
      "The words most similar to family are: ['816-822-8448', 'mother', 'daughter', 'wife', 'son']\n"
     ]
    }
   ],
   "source": [
    "for word in ['soldier',\n",
    "             'king',\n",
    "             'food',\n",
    "             'rock',\n",
    "             'family'\n",
    "            ]:\n",
    "    \n",
    "    print('The words most similar to {} are: {}'.format(word, glove_embeddings.most_similar(word, 5)))"
   ]
  },
  {
   "cell_type": "markdown",
   "metadata": {},
   "source": [
    "Another interesting emergence from these word embeddings is word analogies, for example a man is to a king what a woman is to a ?. The function takes the vector of a word, like \"man\", subtracts another vector, like \"king\", and then adds a third vector, like \"queen\". Then finds the nearest word to the resulting vector. We can try some word analogy triplets with the analogy function."
   ]
  },
  {
   "cell_type": "code",
   "execution_count": 13,
   "metadata": {},
   "outputs": [
    {
     "name": "stdout",
     "output_type": "stream",
     "text": [
      "king is to man as queen is to ['woman', 'girl', 'her', 'man', 'she']\n",
      "university is to professor as school is to ['school', '816-822-8448', 'professor', 'college', 'teacher']\n",
      "mother is to daughter as father is to ['son', 'daughter', 'father', 'married', 'wife']\n",
      "god is to church as devil is to ['non-institutionalized', 'church', 'st.', 'cathedral', '732-390-4697']\n"
     ]
    }
   ],
   "source": [
    "triplets = [('king', 'man', 'queen'),\n",
    "            ('university', 'professor', 'school'),\n",
    "            ('mother', 'daughter', 'father'),\n",
    "            ('god', 'church', 'devil'),\n",
    "           ]\n",
    "\n",
    "for a, b, c in triplets:\n",
    "    print('{} is to {} as {} is to {}'.format(a, b, c, glove_embeddings.analogy(a, b, c, 5)))"
   ]
  },
  {
   "cell_type": "markdown",
   "metadata": {},
   "source": [
    "The analogy task is not performing perfectly, but the results are in the ballpark of what we could expect. Its clear that these word embeddings contain a lot of information, while only having 50 dimensions per word."
   ]
  },
  {
   "cell_type": "markdown",
   "metadata": {},
   "source": [
    "## Part 2: data preparation\n",
    "\n",
    "The texts used by Alexander Huth are short stories, so it only makes sense for us to use other short stories as training data for the LSTM. The texts we will use are from [PROJECT GUTENBERG](https://www.gutenberg.org/), it's a dataset with 1000 short stories. \n",
    "\n",
    "The StoriesDataset class will load the processed datafile if it exists, if not it must be generated first by using generate_sequences. If you dont have processed .csv files yet, run the cell below to create a processed dataset containing n stories. For the sake of this tutorial, 10 stories should be enough. \n",
    "\n",
    "The preprocessing the generate_sequences function does is the following:\n",
    "1. remove all non-word tokens and large whitespaces.\n",
    "2. lowercase all words.\n",
    "3. generate sequences of length n, with targets. \n",
    "\n",
    "The sequences will use the sliding window principle, with the last word being the target. \n",
    "\n",
    "Alexander Huths second paper uses 10 different context lengths to see if different parts of the brain react to which context length. For simplicity we will only use 3 context lengths, 4, 6 and 8. For this we must generate 3 separate datasets. "
   ]
  },
  {
   "cell_type": "code",
   "execution_count": 13,
   "metadata": {},
   "outputs": [],
   "source": [
    "# run this to generate sequences first if you havent already\n",
    "max_seq_len = 8\n",
    "context_lens = [4, 6, 8]\n",
    "n_stories = 2\n",
    "\n",
    "if not os.path.exists(seqdir):\n",
    "    os.mkdir(seqdir)\n",
    "\n",
    "for context_len in context_lens:\n",
    "    filename = 'seq_{}.csv'.format(context_len)\n",
    "    StoriesDataset(os.path.join(seqdir, filename) , glove_embeddings, max_seq_len).generate_sequences('stories.csv', 'content', n_stories, context_len)"
   ]
  },
  {
   "cell_type": "markdown",
   "metadata": {},
   "source": [
    "## Part 3: training the LSTM\n",
    "\n",
    "Now that we have prepared the sequences and the targets, we can start training an LSTM model! The input of the model will be the word embeddings of a single sequence, the target output will be the index of the target word. \n",
    "\n",
    "The model will have the following layers:\n",
    "2. The first lstm layer, with an input shape of maximum sequence length * the word embedding size.\n",
    "3. The second lstm layer.\n",
    "4. The third lstm layer. \n",
    "5. A dense layer that with one output node for each unique word in the text, using a sigmoid activation.  \n",
    "\n",
    "The architecture of the model has already been made in PyTorch, we only have to call it and give it the right arguments, 3 LSTM layers of size 50.\n",
    "\n",
    "We will use cosine similarity (called CosineEmbeddingLoss in PyTorch) as loss function and adam as optimizer. We also have to retrieve the datasets we made earlier. "
   ]
  },
  {
   "cell_type": "code",
   "execution_count": 14,
   "metadata": {},
   "outputs": [],
   "source": [
    "loss_fun = torch.nn.CosineEmbeddingLoss()\n",
    "\n",
    "fit_params = {'n_epochs': 5,\n",
    "              'val_split': 0.1,\n",
    "              'batch_size': 64,\n",
    "              'loss_function': loss_fun}\n",
    "\n",
    "model_params = {'hidden_dim': 50,\n",
    "                'n_layers': 3,\n",
    "                'embedding_dim': glove_embeddings.dim}\n",
    "\n",
    "lr = 0.0001"
   ]
  },
  {
   "cell_type": "markdown",
   "metadata": {},
   "source": [
    "Dont forget that we have to make 3 models, one for each context length. Running the following cell will fit a model using the hyperparameters above for each context length we have available and save the model as a pickle file. \n",
    "\n",
    "Running this cell can take a long time if you dont have a strong GPU available for PyTorch to use. Luckily, I trained some models and saved them, if you dont want to wait for the training loop, use the pretrained models instead."
   ]
  },
  {
   "cell_type": "code",
   "execution_count": 17,
   "metadata": {},
   "outputs": [
    {
     "name": "stdout",
     "output_type": "stream",
     "text": [
      "Making model for seq_8.csv...\n",
      "Fitting model with 5 epochs over 12165 sequences.\n",
      "Starting epoch 1\n",
      "Training loss: 0.5802602986263674, Validation loss: 0.3387395786611657\n",
      "Starting epoch 2\n",
      "Training loss: 0.32262563150982526, Validation loss: 0.32923308485432673\n",
      "Starting epoch 3\n",
      "Training loss: 0.31557396322835324, Validation loss: 0.32380180374572154\n",
      "Starting epoch 4\n",
      "Training loss: 0.3116612242058266, Validation loss: 0.3197752276533528\n",
      "Starting epoch 5\n",
      "Training loss: 0.3089922252436017, Validation loss: 0.3188532708506835\n",
      "Making model for seq_6.csv...\n",
      "Fitting model with 5 epochs over 12169 sequences.\n",
      "Starting epoch 1\n",
      "Training loss: 0.5454651127720989, Validation loss: 0.32362320234901026\n",
      "Starting epoch 2\n",
      "Training loss: 0.3217649147954098, Validation loss: 0.3159543864036861\n",
      "Starting epoch 3\n",
      "Training loss: 0.3159680850803852, Validation loss: 0.31161562706294815\n",
      "Starting epoch 4\n",
      "Training loss: 0.31218224997783817, Validation loss: 0.3091312168460143\n",
      "Starting epoch 5\n",
      "Training loss: 0.3116697459373363, Validation loss: 0.30709983173169586\n",
      "Making model for seq_4.csv...\n",
      "Fitting model with 5 epochs over 12173 sequences.\n",
      "Starting epoch 1\n",
      "Training loss: 0.5892426804747692, Validation loss: 0.3663840010762215\n",
      "Starting epoch 2\n",
      "Training loss: 0.3261817213754321, Validation loss: 0.3433278948068619\n",
      "Starting epoch 3\n",
      "Training loss: 0.3186991531835046, Validation loss: 0.3386902630329132\n",
      "Starting epoch 4\n",
      "Training loss: 0.31476571038365364, Validation loss: 0.3320210374891758\n",
      "Starting epoch 5\n",
      "Training loss: 0.3111380620231462, Validation loss: 0.32540139779448507\n"
     ]
    }
   ],
   "source": [
    "if not os.path.exists(modeldir):\n",
    "    os.mkdir(modeldir)\n",
    "\n",
    "for filename in os.listdir(seqdir):\n",
    "    if filename.endswith(\".csv\"):\n",
    "        print(f'Making model for {filename}...')\n",
    "        model = LSTMWordpred(**model_params)\n",
    "        adam = optim.Adam(model.parameters(), lr=lr)\n",
    "\n",
    "        dataset = StoriesDataset(filename, glove_embeddings)\n",
    "        \n",
    "        train_hist, val_hist = model.fit(dataset, opt=adam, **fit_params)\n",
    "        \n",
    "        filename = f'lstm_model{filename[-5]}.pth'\n",
    "        \n",
    "        torch.save(model.state_dict(), os.path.join(modeldir, filename))\n",
    "        \n",
    "        # add your code for loss history visualization here.\n",
    "        \n",
    "        continue"
   ]
  },
  {
   "cell_type": "markdown",
   "metadata": {},
   "source": [
    "The following cell will load the three pretrained models in a dictionary."
   ]
  },
  {
   "cell_type": "code",
   "execution_count": 54,
   "metadata": {},
   "outputs": [
    {
     "name": "stdout",
     "output_type": "stream",
     "text": [
      "Loaded model weights of lstm_model8.pth into lstm_model8\n",
      "Loaded model weights of lstm_model4.pth into lstm_model4\n",
      "Loaded model weights of lstm_model6.pth into lstm_model6\n"
     ]
    }
   ],
   "source": [
    "models = {}\n",
    "for filename in os.listdir(modeldir):\n",
    "    if filename.endswith(\".pth\"):\n",
    "        \n",
    "        model = LSTMWordpred(**model_params)\n",
    "        model.load_state_dict(torch.load(os.path.join(modeldir, filename)))\n",
    "        model.eval()\n",
    "        \n",
    "        modelname = filename[:-4]\n",
    "        \n",
    "        models[modelname] = model\n",
    "        \n",
    "        print(f'Loaded model weights of {filename} into {modelname}')\n",
    "        \n",
    "        continue"
   ]
  },
  {
   "cell_type": "code",
   "execution_count": 57,
   "metadata": {},
   "outputs": [],
   "source": [
    "example_sequence = glove_embeddings.get_word_vectors(['i', 'like', 'to', 'go'])\n",
    "\n",
    "example_sequence = torch.from_numpy(example_sequence).unsqueeze(dim=0).float()\n",
    "\n",
    "example = models['lstm_model4'].get_hidden_states(example_sequence)"
   ]
  },
  {
   "cell_type": "markdown",
   "metadata": {},
   "source": [
    "Now that our model has been compiled, we can start fitting the sequences to the target. This will can take a VERY long time, depending on your machine, the amount of stories you have selected, and the amount of epochs. "
   ]
  },
  {
   "cell_type": "markdown",
   "metadata": {},
   "source": [
    "Once the model is done training, we can inspect the performance over each epoch. We want to reach a point where the validation loss starts increasing or stays the same. If we go further we will begin to overfit, and we want to avoid that. When we tested it this was around 50 epochs, so for simplicity we will use this many epochs. "
   ]
  },
  {
   "cell_type": "markdown",
   "metadata": {},
   "source": [
    "Now that we have a trained model, we need a function that can extract the output of the 3rd lstm layer.  "
   ]
  },
  {
   "cell_type": "markdown",
   "metadata": {},
   "source": [
    "Now we have a function where we can input a sequence and get its representation from the LSTM layer.\n",
    "\n",
    "In A. Huths paper different representation lengths are used so we will train 2 more models, one with context length 4, and one with context length 6. The code below will do what we did above for context length 2, but now for context length 4 and 6."
   ]
  },
  {
   "cell_type": "markdown",
   "metadata": {},
   "source": [
    "At last, we have our models. We can now test with a simple example and see how each context differs, based on the context length."
   ]
  }
 ],
 "metadata": {
  "kernelspec": {
   "display_name": "Python 3",
   "language": "python",
   "name": "python3"
  },
  "language_info": {
   "codemirror_mode": {
    "name": "ipython",
    "version": 3
   },
   "file_extension": ".py",
   "mimetype": "text/x-python",
   "name": "python",
   "nbconvert_exporter": "python",
   "pygments_lexer": "ipython3",
   "version": "3.7.3"
  }
 },
 "nbformat": 4,
 "nbformat_minor": 2
}
